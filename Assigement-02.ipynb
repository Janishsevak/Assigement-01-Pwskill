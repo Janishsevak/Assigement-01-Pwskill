{
 "cells": [
  {
   "cell_type": "code",
   "execution_count": null,
   "id": "e520232b-62f2-4bee-a9c2-78df39830679",
   "metadata": {},
   "outputs": [],
   "source": [
    "Q1. How do you comment code in Python? What are the different types of comments?"
   ]
  },
  {
   "cell_type": "markdown",
   "id": "e146f99e-297c-4e13-af00-d7124198a253",
   "metadata": {},
   "source": [
    "Comments starts with a #\n"
   ]
  },
  {
   "cell_type": "code",
   "execution_count": 1,
   "id": "68f8928e-9b0e-421b-995d-718c6e035ae6",
   "metadata": {},
   "outputs": [
    {
     "name": "stdout",
     "output_type": "stream",
     "text": [
      "Hello, World!\n"
     ]
    }
   ],
   "source": [
    "#This is a comment\n",
    "print(\"Hello, World!\")"
   ]
  },
  {
   "cell_type": "code",
   "execution_count": 2,
   "id": "8657ef7e-f66d-4b8e-b3b6-fde72eabd9b7",
   "metadata": {},
   "outputs": [
    {
     "name": "stdout",
     "output_type": "stream",
     "text": [
      "Hello, World!\n"
     ]
    }
   ],
   "source": [
    "\"\"\"\n",
    "This is a multi-line comment\n",
    "using triple quotes\n",
    "\"\"\"\n",
    "print('Hello, World!')\n"
   ]
  },
  {
   "cell_type": "code",
   "execution_count": null,
   "id": "d1f3d593-3471-4a17-8574-8469a8b0f409",
   "metadata": {},
   "outputs": [],
   "source": [
    "Q2. What are variables in Python? How do you declare and assign values to variables?"
   ]
  },
  {
   "cell_type": "code",
   "execution_count": 3,
   "id": "5dbd367c-ba9c-497d-87f5-10650031e383",
   "metadata": {},
   "outputs": [
    {
     "name": "stdout",
     "output_type": "stream",
     "text": [
      "5\n",
      "John\n"
     ]
    }
   ],
   "source": [
    "#Variables are containers for storing data values.\n",
    "x = 5\n",
    "y = \"John\"\n",
    "print(x)\n",
    "print(y)"
   ]
  },
  {
   "cell_type": "code",
   "execution_count": null,
   "id": "89235d51-9c02-4adf-97d1-fccff445df75",
   "metadata": {},
   "outputs": [],
   "source": [
    "Q3. How do you convert one data type to another in Python?"
   ]
  },
  {
   "cell_type": "code",
   "execution_count": 14,
   "id": "124d5c59-f451-48bf-9686-7a242fc11776",
   "metadata": {},
   "outputs": [],
   "source": [
    " #To convert between types, you simply use the type name as a function.\n",
    "x = 5 ## integer\n",
    "y = str(x)## to convert in string\n",
    "a = float(x)## to convert in float"
   ]
  },
  {
   "cell_type": "code",
   "execution_count": 19,
   "id": "9ce35f64-8528-4453-8935-f4770aa2c814",
   "metadata": {},
   "outputs": [
    {
     "data": {
      "text/plain": [
       "(str, float)"
      ]
     },
     "execution_count": 19,
     "metadata": {},
     "output_type": "execute_result"
    }
   ],
   "source": [
    "type(y),type(a)"
   ]
  },
  {
   "cell_type": "code",
   "execution_count": null,
   "id": "53c1076a-ac28-459d-b9f4-55c6226060c8",
   "metadata": {},
   "outputs": [],
   "source": [
    "Q4. How do you write and execute a Python script from the command line?\n",
    "#To run Python in the terminal, store it in a ‘.py’ file in the command line, we have to write the ‘python’ keyword before the file name in the command prompt. \n",
    "#In this way we can run Python programs in cmd.#"
   ]
  },
  {
   "cell_type": "code",
   "execution_count": null,
   "id": "5fa86e94-18f3-4a77-8805-a9aa286a17f9",
   "metadata": {},
   "outputs": [],
   "source": [
    "Q5. Given a list my_list = [1, 2, 3, 4, 5], write the code to slice the list and obtain the sub-list [2, 3].\n"
   ]
  },
  {
   "cell_type": "code",
   "execution_count": 27,
   "id": "a537c43e-3501-48e3-8a45-83f22b034443",
   "metadata": {},
   "outputs": [
    {
     "name": "stdout",
     "output_type": "stream",
     "text": [
      "[2, 3]\n"
     ]
    }
   ],
   "source": [
    "my_list = [1, 2, 3, 4, 5]\n",
    "print(my_list[1:3])"
   ]
  },
  {
   "cell_type": "code",
   "execution_count": null,
   "id": "7e462e98-a591-4335-9973-cce0cc474f8c",
   "metadata": {},
   "outputs": [],
   "source": [
    "Q6. What is a complex number in mathematics, and how is it represented in Python?"
   ]
  },
  {
   "cell_type": "code",
   "execution_count": 34,
   "id": "12ee89d1-11ba-4b70-9b07-0e631a4a3af4",
   "metadata": {},
   "outputs": [],
   "source": [
    "a = 'a+3b'## complex number"
   ]
  },
  {
   "cell_type": "code",
   "execution_count": 37,
   "id": "eea47755-b878-496c-80af-1163d848790e",
   "metadata": {},
   "outputs": [
    {
     "data": {
      "text/plain": [
       "'a+3b'"
      ]
     },
     "execution_count": 37,
     "metadata": {},
     "output_type": "execute_result"
    }
   ],
   "source": [
    "a"
   ]
  },
  {
   "cell_type": "code",
   "execution_count": null,
   "id": "47c6cf5f-7042-43ca-acf9-9175927ee909",
   "metadata": {},
   "outputs": [],
   "source": [
    "Q7. What is the correct way to declare a variable named age and assign the value 25 to it?"
   ]
  },
  {
   "cell_type": "code",
   "execution_count": 38,
   "id": "5f586b21-c4c9-4082-9a54-e5167035cb7e",
   "metadata": {},
   "outputs": [],
   "source": [
    "Age = int(25)"
   ]
  },
  {
   "cell_type": "code",
   "execution_count": 40,
   "id": "62ee89e4-59a9-4b8e-885e-25995ee4f8c9",
   "metadata": {},
   "outputs": [
    {
     "data": {
      "text/plain": [
       "25"
      ]
     },
     "execution_count": 40,
     "metadata": {},
     "output_type": "execute_result"
    }
   ],
   "source": [
    "Age"
   ]
  },
  {
   "cell_type": "code",
   "execution_count": null,
   "id": "2fe6c454-b2b4-4cab-95e7-839eb7cfd0e0",
   "metadata": {},
   "outputs": [],
   "source": [
    "Q8. Declare a variable named price and assign the value 9.99 to it. What data type does this variable\n",
    "belong to?"
   ]
  },
  {
   "cell_type": "code",
   "execution_count": 41,
   "id": "62c6a053-d65d-4fd9-a339-6635900ca157",
   "metadata": {},
   "outputs": [],
   "source": [
    "price = 9.99 ## float type"
   ]
  },
  {
   "cell_type": "code",
   "execution_count": 42,
   "id": "e7b74718-ce23-40b0-83d3-755485676134",
   "metadata": {},
   "outputs": [
    {
     "data": {
      "text/plain": [
       "float"
      ]
     },
     "execution_count": 42,
     "metadata": {},
     "output_type": "execute_result"
    }
   ],
   "source": [
    "type(price)"
   ]
  },
  {
   "cell_type": "code",
   "execution_count": null,
   "id": "91c60478-03e8-4fde-8aec-d01ec711c8c7",
   "metadata": {},
   "outputs": [],
   "source": [
    "Q9. Create a variable named name and assign your full name to it as a string. How would you print the\n",
    "value of this variable?"
   ]
  },
  {
   "cell_type": "code",
   "execution_count": 44,
   "id": "f73bea86-9d8d-4796-b253-6a05722ceac9",
   "metadata": {},
   "outputs": [
    {
     "name": "stdout",
     "output_type": "stream",
     "text": [
      "Jainish Bipinchandra Sevak\n"
     ]
    },
    {
     "data": {
      "text/plain": [
       "(None, str)"
      ]
     },
     "execution_count": 44,
     "metadata": {},
     "output_type": "execute_result"
    }
   ],
   "source": [
    "name = \"Jainish Bipinchandra Sevak\"\n",
    "print(name),type(name)"
   ]
  },
  {
   "cell_type": "code",
   "execution_count": null,
   "id": "98ad5166-6e21-4363-8013-897d0b6067a2",
   "metadata": {},
   "outputs": [],
   "source": [
    "Q10. Given the string \"Hello, World!\", extract the substring \"World\"."
   ]
  },
  {
   "cell_type": "code",
   "execution_count": 55,
   "id": "d932df91-1a6b-4cdf-bc7c-be8238c261f1",
   "metadata": {},
   "outputs": [],
   "source": [
    "a = \"Hello, World!\"\n",
    "b = a[6:]"
   ]
  },
  {
   "cell_type": "code",
   "execution_count": 56,
   "id": "1b32404e-aaaa-4c13-a7de-44ffb3e2ecae",
   "metadata": {},
   "outputs": [
    {
     "data": {
      "text/plain": [
       "' World!'"
      ]
     },
     "execution_count": 56,
     "metadata": {},
     "output_type": "execute_result"
    }
   ],
   "source": [
    "b"
   ]
  },
  {
   "cell_type": "code",
   "execution_count": null,
   "id": "4ad457b7-37d8-48bd-96d9-0652460765b6",
   "metadata": {},
   "outputs": [],
   "source": [
    "Q11. Create a variable named \"is_student\" and assign it a boolean value indicating whether you are\n",
    "currently a student or not."
   ]
  },
  {
   "cell_type": "code",
   "execution_count": 62,
   "id": "3b8cfcec-2e18-477e-bc8a-373bd89adc4e",
   "metadata": {},
   "outputs": [
    {
     "name": "stdout",
     "output_type": "stream",
     "text": [
      "This is student\n"
     ]
    }
   ],
   "source": [
    "is_student = 20\n",
    "if is_student<=22:\n",
    "    print(\"This is student\")\n",
    "else:\n",
    "    print(\"This is not student\")"
   ]
  },
  {
   "cell_type": "code",
   "execution_count": null,
   "id": "fa882c08-7473-496f-b3d0-c0beed7b8177",
   "metadata": {},
   "outputs": [],
   "source": []
  }
 ],
 "metadata": {
  "kernelspec": {
   "display_name": "Python 3 (ipykernel)",
   "language": "python",
   "name": "python3"
  },
  "language_info": {
   "codemirror_mode": {
    "name": "ipython",
    "version": 3
   },
   "file_extension": ".py",
   "mimetype": "text/x-python",
   "name": "python",
   "nbconvert_exporter": "python",
   "pygments_lexer": "ipython3",
   "version": "3.10.8"
  }
 },
 "nbformat": 4,
 "nbformat_minor": 5
}
