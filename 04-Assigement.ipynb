{
 "cells": [
  {
   "cell_type": "code",
   "execution_count": null,
   "id": "7f0bc25c-d13d-42cc-bef9-d38e274c23dc",
   "metadata": {},
   "outputs": [],
   "source": [
    "Q1. Create a python program to sort the given list of tuples based on integer value using a\n",
    "lambda function.\n"
   ]
  },
  {
   "cell_type": "code",
   "execution_count": 1,
   "id": "123684c7-a552-48a2-a71d-5029c8380ee9",
   "metadata": {},
   "outputs": [],
   "source": [
    "a = [('Sachin Tendulkar', 34357), ('Ricky Ponting', 27483), ('Jack Kallis', 25534), ('Virat Kohli', 24936)]"
   ]
  },
  {
   "cell_type": "code",
   "execution_count": 11,
   "id": "1f1e6082-11a2-42c4-ab42-d683f65d996d",
   "metadata": {},
   "outputs": [],
   "source": [
    "a.sort(key=lambda x: x[1])"
   ]
  },
  {
   "cell_type": "code",
   "execution_count": 12,
   "id": "5cbe83b7-6632-4f5b-a3ec-a6106fce5bb8",
   "metadata": {},
   "outputs": [
    {
     "data": {
      "text/plain": [
       "[('Virat Kohli', 24936),\n",
       " ('Jack Kallis', 25534),\n",
       " ('Ricky Ponting', 27483),\n",
       " ('Sachin Tendulkar', 34357)]"
      ]
     },
     "execution_count": 12,
     "metadata": {},
     "output_type": "execute_result"
    }
   ],
   "source": [
    "a"
   ]
  },
  {
   "cell_type": "code",
   "execution_count": null,
   "id": "267c8836-4cae-48b7-bd9b-f193fe269a41",
   "metadata": {},
   "outputs": [],
   "source": [
    "Q2. Write a Python Program to find the squares of all the numbers in the given list of integers using\n",
    "lambda and map functions.\n",
    "[1, 2, 3, 4, 5, 6, 7, 8, 9, 10]"
   ]
  },
  {
   "cell_type": "code",
   "execution_count": 13,
   "id": "1c38d04c-0c5c-44b8-916c-7d8903c2cbd1",
   "metadata": {},
   "outputs": [
    {
     "name": "stdout",
     "output_type": "stream",
     "text": [
      "[1, 4, 9, 16, 25, 36, 49, 64, 81, 100]\n"
     ]
    }
   ],
   "source": [
    "a = [1, 2, 3, 4, 5, 6, 7, 8, 9, 10]\n",
    "square_nums = list(map(lambda x: x ** 2, a))\n",
    "print(square_nums)"
   ]
  },
  {
   "cell_type": "code",
   "execution_count": null,
   "id": "843d53d7-20b0-4cc5-9517-94ca819852bd",
   "metadata": {},
   "outputs": [],
   "source": [
    "Q3. Write a python program to convert the given list of integers into a tuple of strings. Use map and\n",
    "lambda functions\n",
    "Given String: [1, 2, 3, 4, 5, 6, 7, 8, 9, 10]"
   ]
  },
  {
   "cell_type": "code",
   "execution_count": 17,
   "id": "e5e5b72c-e8b2-4160-959c-473383f4073b",
   "metadata": {},
   "outputs": [
    {
     "name": "stdout",
     "output_type": "stream",
     "text": [
      "('1', '2', '3', '4', '5', '6', '7', '8', '9', '10')\n"
     ]
    }
   ],
   "source": [
    "a = [1, 2, 3, 4, 5, 6, 7, 8, 9, 10]\n",
    "output = tuple(map(str,a))\n",
    "print(output)"
   ]
  },
  {
   "cell_type": "code",
   "execution_count": null,
   "id": "27aaaea1-6fd9-4be3-8459-cdb955522caa",
   "metadata": {},
   "outputs": [],
   "source": [
    "Q4. Write a python program using reduce function to compute the product of a list containing numbers\n",
    "from 1 to 25."
   ]
  },
  {
   "cell_type": "code",
   "execution_count": 27,
   "id": "0e50c440-f441-4769-9ac2-76ea54639ba3",
   "metadata": {},
   "outputs": [],
   "source": [
    "from functools import reduce"
   ]
  },
  {
   "cell_type": "code",
   "execution_count": 29,
   "id": "35d12c0a-a08b-493d-9675-114daaa97715",
   "metadata": {},
   "outputs": [
    {
     "data": {
      "text/plain": [
       "300"
      ]
     },
     "execution_count": 29,
     "metadata": {},
     "output_type": "execute_result"
    }
   ],
   "source": [
    "a = range(1,25)\n",
    "reduce(lambda x ,y : x+y, a )"
   ]
  },
  {
   "cell_type": "code",
   "execution_count": null,
   "id": "e62abd2c-e744-43cb-99ea-440d7590f0c8",
   "metadata": {},
   "outputs": [],
   "source": [
    "Q5. Write a python program to filter the numbers in a given list that are divisible by 2 and 3 using the\n",
    "filter function.\n"
   ]
  },
  {
   "cell_type": "code",
   "execution_count": 32,
   "id": "0de9b14b-3a61-4de0-bdac-cf663db7e5b1",
   "metadata": {},
   "outputs": [
    {
     "data": {
      "text/plain": [
       "[2, 6, 60, 90, 120, 46]"
      ]
     },
     "execution_count": 32,
     "metadata": {},
     "output_type": "execute_result"
    }
   ],
   "source": [
    "a = [2, 3, 6, 9, 27, 60, 90, 120, 55, 46]\n",
    "list(filter(lambda x : x % 2 == 0 , a ))"
   ]
  },
  {
   "cell_type": "code",
   "execution_count": null,
   "id": "ae0006fe-b1d6-4d22-8c7d-3f64ee261991",
   "metadata": {},
   "outputs": [],
   "source": []
  }
 ],
 "metadata": {
  "kernelspec": {
   "display_name": "Python 3 (ipykernel)",
   "language": "python",
   "name": "python3"
  },
  "language_info": {
   "codemirror_mode": {
    "name": "ipython",
    "version": 3
   },
   "file_extension": ".py",
   "mimetype": "text/x-python",
   "name": "python",
   "nbconvert_exporter": "python",
   "pygments_lexer": "ipython3",
   "version": "3.10.8"
  }
 },
 "nbformat": 4,
 "nbformat_minor": 5
}
