{
 "cells": [
  {
   "cell_type": "code",
   "execution_count": null,
   "id": "00f9b701-e24d-4c24-9f7b-b2182b371a21",
   "metadata": {},
   "outputs": [],
   "source": [
    "Q1. Create one variable containing following type of data:\n",
    "(i) a = 'jenish' ## string\n",
    "(ii) a = ['jenish','sevak']##list\n",
    "(iii) a = 1.5 ## float\n",
    "(iv) a = ('jenish',1,1.5) ##tuple"
   ]
  },
  {
   "cell_type": "code",
   "execution_count": 6,
   "id": "b952d74f-8de9-46eb-889a-5885bd3d048d",
   "metadata": {},
   "outputs": [],
   "source": [
    "Q2. Given are some following variables containing data:\n",
    "(i) var1 = ‘ ‘ ## string\n",
    "(ii) var2 = ‘[ DS , ML , Python]’ ## invalid character\n",
    "(iii) var3 = [ ‘DS’ , ’ML’ , ‘Python’ ]## list\n",
    "(iv) var4 = 1.## int"
   ]
  },
  {
   "cell_type": "code",
   "execution_count": 9,
   "id": "b682c292-78fb-4a10-bfd3-97c131160c12",
   "metadata": {},
   "outputs": [
    {
     "ename": "SyntaxError",
     "evalue": "unterminated string literal (detected at line 1) (1193345069.py, line 1)",
     "output_type": "error",
     "traceback": [
      "\u001b[0;36m  Cell \u001b[0;32mIn[10], line 1\u001b[0;36m\u001b[0m\n\u001b[0;31m    var2 = '[ DS , ML , Python]’\u001b[0m\n\u001b[0m           ^\u001b[0m\n\u001b[0;31mSyntaxError\u001b[0m\u001b[0;31m:\u001b[0m unterminated string literal (detected at line 1)\n"
     ]
    }
   ],
   "source": [
    "var2 = ‘[ DS , ML , Python]’"
   ]
  },
  {
   "cell_type": "code",
   "execution_count": null,
   "id": "7f7a8d13-bb87-4408-be02-709a5a3d2a7c",
   "metadata": {},
   "outputs": [],
   "source": [
    "Q3. Explain the use of the following operators using an example:\n",
    "(i) /\n",
    "(ii) %\n",
    "(iii) //\n",
    "(iv) **"
   ]
  },
  {
   "cell_type": "code",
   "execution_count": 22,
   "id": "295d205d-e3c9-40c7-8feb-736f72828434",
   "metadata": {},
   "outputs": [
    {
     "data": {
      "text/plain": [
       "0.6666666666666666"
      ]
     },
     "execution_count": 22,
     "metadata": {},
     "output_type": "execute_result"
    }
   ],
   "source": [
    "2/3"
   ]
  },
  {
   "cell_type": "code",
   "execution_count": 23,
   "id": "a741c8c6-58fe-47cc-86ee-ab13560171d4",
   "metadata": {},
   "outputs": [
    {
     "data": {
      "text/plain": [
       "6"
      ]
     },
     "execution_count": 23,
     "metadata": {},
     "output_type": "execute_result"
    }
   ],
   "source": [
    "2*3"
   ]
  },
  {
   "cell_type": "code",
   "execution_count": 24,
   "id": "26c2f9e2-8a53-41dc-ac4d-05d5fd02a156",
   "metadata": {},
   "outputs": [
    {
     "data": {
      "text/plain": [
       "0"
      ]
     },
     "execution_count": 24,
     "metadata": {},
     "output_type": "execute_result"
    }
   ],
   "source": [
    "2//3"
   ]
  },
  {
   "cell_type": "code",
   "execution_count": 25,
   "id": "82373adf-773e-4d80-9189-75474326be18",
   "metadata": {},
   "outputs": [
    {
     "data": {
      "text/plain": [
       "8"
      ]
     },
     "execution_count": 25,
     "metadata": {},
     "output_type": "execute_result"
    }
   ],
   "source": [
    "2**3"
   ]
  },
  {
   "cell_type": "code",
   "execution_count": null,
   "id": "bf0e57d9-2c23-4823-97de-b94bb6633fb8",
   "metadata": {},
   "outputs": [],
   "source": [
    "Q4. Create a list of length 10 of your choice containing multiple types of data. Using for loop print the\n",
    "element and its data type."
   ]
  },
  {
   "cell_type": "code",
   "execution_count": 41,
   "id": "e711e80c-72e1-453e-8637-44a2b5af26ed",
   "metadata": {},
   "outputs": [],
   "source": [
    "a = ['jenish',10,10.5,True,'Pwskill',45,45.5,False,10,10.5]"
   ]
  },
  {
   "cell_type": "code",
   "execution_count": 42,
   "id": "8a728b67-d649-4b06-b96c-0327ce96f769",
   "metadata": {},
   "outputs": [
    {
     "data": {
      "text/plain": [
       "10"
      ]
     },
     "execution_count": 42,
     "metadata": {},
     "output_type": "execute_result"
    }
   ],
   "source": [
    "len(a)"
   ]
  },
  {
   "cell_type": "code",
   "execution_count": 46,
   "id": "b1017f35-1bcf-4165-a782-62fababf1c7e",
   "metadata": {},
   "outputs": [
    {
     "name": "stdout",
     "output_type": "stream",
     "text": [
      "jenish and <class 'str'>\n",
      "10 and <class 'int'>\n",
      "10.5 and <class 'float'>\n",
      "True and <class 'bool'>\n",
      "Pwskill and <class 'str'>\n",
      "45 and <class 'int'>\n",
      "45.5 and <class 'float'>\n",
      "False and <class 'bool'>\n",
      "10 and <class 'int'>\n",
      "10.5 and <class 'float'>\n"
     ]
    }
   ],
   "source": [
    "for i in a:\n",
    "    print(i,'and',type(i))"
   ]
  },
  {
   "cell_type": "code",
   "execution_count": null,
   "id": "032ad365-2899-4488-b273-4d548ec86e82",
   "metadata": {},
   "outputs": [],
   "source": [
    "Q5. Using a while loop, verify if the number A is purely divisible by number B and if so then how many\n",
    "times it can be divisible."
   ]
  },
  {
   "cell_type": "code",
   "execution_count": null,
   "id": "35588ee2-5da6-474b-9737-f5f71dc2eb72",
   "metadata": {},
   "outputs": [],
   "source": [
    "Q6. Create a list containing 25 int type data. Using for loop and if-else condition \n",
    "print if the element is divisible by 3 or not."
   ]
  },
  {
   "cell_type": "code",
   "execution_count": 41,
   "id": "311d2b5e-ff63-44ee-a185-1c6ff2a9c827",
   "metadata": {},
   "outputs": [
    {
     "name": "stdout",
     "output_type": "stream",
     "text": [
      "1 the element is not divisible by 3\n",
      "2 the element is not divisible by 3\n",
      "3 the element is divisible by 3\n",
      "4 the element is not divisible by 3\n",
      "5 the element is not divisible by 3\n",
      "6 the element is divisible by 3\n",
      "7 the element is not divisible by 3\n",
      "8 the element is not divisible by 3\n",
      "9 the element is divisible by 3\n",
      "10 the element is not divisible by 3\n",
      "11 the element is not divisible by 3\n",
      "12 the element is divisible by 3\n",
      "13 the element is not divisible by 3\n",
      "14 the element is not divisible by 3\n",
      "15 the element is divisible by 3\n",
      "16 the element is not divisible by 3\n",
      "17 the element is not divisible by 3\n",
      "18 the element is divisible by 3\n",
      "19 the element is not divisible by 3\n",
      "20 the element is not divisible by 3\n",
      "21 the element is divisible by 3\n",
      "22 the element is not divisible by 3\n",
      "23 the element is not divisible by 3\n",
      "24 the element is divisible by 3\n",
      "25 the element is not divisible by 3\n"
     ]
    }
   ],
   "source": [
    "l=[1,2,3,4,5,6,7,8,9,10,11,12,13,14,15,16,17,18,19,20,21,22,23,24,25]\n",
    "\n",
    "for i in l:\n",
    "    if i%3==0:\n",
    "        print(i,\"the element is divisible by 3\")\n",
    "    else:\n",
    "        print(i,\"the element is not divisible by 3\")"
   ]
  },
  {
   "cell_type": "code",
   "execution_count": null,
   "id": "3d930a84-189f-4ba6-89c4-7fc0feaf0d2d",
   "metadata": {},
   "outputs": [],
   "source": [
    "Q7. What do you understand about mutable and immutable data types? Give examples for both showing\n",
    "this property."
   ]
  },
  {
   "cell_type": "code",
   "execution_count": 46,
   "id": "5cc74a5b-e7ab-47a9-83ba-a10676505310",
   "metadata": {},
   "outputs": [
    {
     "name": "stdout",
     "output_type": "stream",
     "text": [
      "[1, 2, 3, 4]\n"
     ]
    }
   ],
   "source": [
    "##Mutable object can be changed after it is craeted like a list,dict & set\n",
    "##immutable object can’t be changed after it is created  like a int, float, bool, string, Unicode, and tuple\n",
    "\n",
    "my_list = [1, 2, 3]## mutable object\n",
    "my_list.append(4)\n",
    "print(my_list)"
   ]
  },
  {
   "cell_type": "code",
   "execution_count": 47,
   "id": "a42f4b02-fff0-48a0-9965-61bc64687fe8",
   "metadata": {},
   "outputs": [
    {
     "ename": "AttributeError",
     "evalue": "'tuple' object has no attribute 'append'",
     "output_type": "error",
     "traceback": [
      "\u001b[0;31m---------------------------------------------------------------------------\u001b[0m",
      "\u001b[0;31mAttributeError\u001b[0m                            Traceback (most recent call last)",
      "Cell \u001b[0;32mIn[47], line 2\u001b[0m\n\u001b[1;32m      1\u001b[0m my_list \u001b[38;5;241m=\u001b[39m (\u001b[38;5;241m1\u001b[39m, \u001b[38;5;241m2\u001b[39m, \u001b[38;5;241m3\u001b[39m)\u001b[38;5;66;03m## mutable object\u001b[39;00m\n\u001b[0;32m----> 2\u001b[0m \u001b[43mmy_list\u001b[49m\u001b[38;5;241;43m.\u001b[39;49m\u001b[43mappend\u001b[49m(\u001b[38;5;241m4\u001b[39m)\n\u001b[1;32m      3\u001b[0m \u001b[38;5;28mprint\u001b[39m(my_list)\n",
      "\u001b[0;31mAttributeError\u001b[0m: 'tuple' object has no attribute 'append'"
     ]
    }
   ],
   "source": [
    "my_list = (1, 2, 3)## immutable object\n",
    "my_list.append(4)\n",
    "print(my_list)"
   ]
  },
  {
   "cell_type": "code",
   "execution_count": null,
   "id": "c8bc33f2-0b06-485f-a01a-b5c047823be8",
   "metadata": {},
   "outputs": [],
   "source": []
  }
 ],
 "metadata": {
  "kernelspec": {
   "display_name": "Python 3 (ipykernel)",
   "language": "python",
   "name": "python3"
  },
  "language_info": {
   "codemirror_mode": {
    "name": "ipython",
    "version": 3
   },
   "file_extension": ".py",
   "mimetype": "text/x-python",
   "name": "python",
   "nbconvert_exporter": "python",
   "pygments_lexer": "ipython3",
   "version": "3.10.8"
  }
 },
 "nbformat": 4,
 "nbformat_minor": 5
}
